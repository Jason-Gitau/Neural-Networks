{
  "nbformat": 4,
  "nbformat_minor": 0,
  "metadata": {
    "colab": {
      "provenance": [],
      "authorship_tag": "ABX9TyNKMFz3ugdAzlJ9/MAy2seh",
      "include_colab_link": true
    },
    "kernelspec": {
      "name": "python3",
      "display_name": "Python 3"
    },
    "language_info": {
      "name": "python"
    }
  },
  "cells": [
    {
      "cell_type": "markdown",
      "metadata": {
        "id": "view-in-github",
        "colab_type": "text"
      },
      "source": [
        "<a href=\"https://colab.research.google.com/github/Jason-Gitau/Neural-Networks/blob/main/CNN_image_classifier.ipynb\" target=\"_parent\"><img src=\"https://colab.research.google.com/assets/colab-badge.svg\" alt=\"Open In Colab\"/></a>"
      ]
    },
    {
      "cell_type": "code",
      "execution_count": null,
      "metadata": {
        "id": "uAua0G1mSMlb"
      },
      "outputs": [],
      "source": [
        "# first we import the libraries we need\n",
        "# What’s New Here?\n",
        "#     Conv2D: Adds a convolutional layer to extract spatial features from the images.\n",
        "#     MaxPooling2D: Reduces the spatial dimensions of the feature maps (downsampling).\n",
        "#     Flatten: Converts the 2D feature maps into a 1D vector for the fully connected layers.\n",
        "\n",
        "# NB// the new libraries are all under layers\n",
        "\n",
        "# What’s Similar to version 1 and 2?\n",
        "#     Dense: Fully connected layers are still used after the convolutional layers.\n",
        "#     Sequential: The model is built layer by layer, just like before.\n",
        "import tensorflow as tf\n",
        "from tensorflow.keras.models import Sequential\n",
        "from tensorflow.keras.layers import Conv2D, MaxPooling2D, Flatten, Dense\n",
        "from tensorflow.keras.datasets import mnist\n",
        "from tensorflow.keras.utils import to_categorical"
      ]
    },
    {
      "cell_type": "code",
      "source": [
        "# now we want to load and preprocess data\n",
        "# CNNs expect the input to include a channel dimension (e.g., grayscale images have 1 channel, RGB images have 3 channels).\n",
        "\n",
        "# Load MNIST dataset\n",
        "(x_train, y_train), (x_test, y_test) = mnist.load_data()\n",
        "\n",
        "# Reshape data to include channel dimension (28x28x1 for grayscale images)\n",
        "x_train = x_train.reshape(-1, 28, 28, 1).astype('float32') / 255.0\n",
        "x_test = x_test.reshape(-1, 28, 28, 1).astype('float32') / 255.0\n",
        "\n",
        "# One-hot encode labels\n",
        "y_train = to_categorical(y_train, 10)\n",
        "y_test = to_categorical(y_test, 10)\n",
        "\n",
        "# .reshape(-1, 28, 28, 1): Adds a channel dimension to the images. MNIST images are grayscale, so the channel size is 1. For RGB images, it would be 3.\n",
        "# CNNs work directly with 2D images (instead of flattening them into vectors)."
      ],
      "metadata": {
        "colab": {
          "base_uri": "https://localhost:8080/"
        },
        "id": "KkaxAP2ATC6O",
        "outputId": "b936517f-3ddb-4129-d758-3343ac2528aa"
      },
      "execution_count": null,
      "outputs": [
        {
          "output_type": "stream",
          "name": "stdout",
          "text": [
            "Downloading data from https://storage.googleapis.com/tensorflow/tf-keras-datasets/mnist.npz\n",
            "\u001b[1m11490434/11490434\u001b[0m \u001b[32m━━━━━━━━━━━━━━━━━━━━\u001b[0m\u001b[37m\u001b[0m \u001b[1m0s\u001b[0m 0us/step\n"
          ]
        }
      ]
    },
    {
      "cell_type": "code",
      "source": [
        "# we want to build the CNN model\n",
        "# Now comes the biggest difference: the architecture of the model. Instead of using only dense layers, we’ll add convolutional and pooling layers.\n",
        "\n",
        "# Define the CNN model\n",
        "model = Sequential([\n",
        "    Conv2D(32, kernel_size=(3, 3), activation='relu', input_shape=(28, 28, 1)),  # Convolutional layer\n",
        "    MaxPooling2D(pool_size=(2, 2)),                                             # Pooling layer\n",
        "    Conv2D(64, kernel_size=(3, 3), activation='relu'),                           # Second convolutional layer\n",
        "    MaxPooling2D(pool_size=(2, 2)),                                             # Second pooling layer\n",
        "    Flatten(),                                                                  # Flatten the feature maps\n",
        "    Dense(128, activation='relu'),                                              # Fully connected layer\n",
        "    Dense(10, activation='softmax')                                             # Output layer\n",
        "])\n",
        "\n",
        "# Compile the model\n",
        "model.compile(optimizer='adam', loss='categorical_crossentropy', metrics=['accuracy'])\n",
        "\n",
        "# Conv2D Layers : These extract spatial features like edges and textures from the images.\n",
        "# 32 and 64: Number of filters (feature detectors) in each layer.\n",
        "# kernel_size=(3, 3): Size of the filter (3x3 pixels).\n",
        "# MaxPooling2D Layers : Reduce the spatial dimensions of the feature maps, making the model computationally efficient.\n",
        "# pool_size=(2, 2): Reduces the size by half in both dimensions.\n",
        "# Flatten Layer : Converts the 2D feature maps into a 1D vector for the fully connected layers."
      ],
      "metadata": {
        "colab": {
          "base_uri": "https://localhost:8080/"
        },
        "id": "-M0NlZf2UAmE",
        "outputId": "0f97ce20-206c-49b9-959e-a0527e509e7d"
      },
      "execution_count": null,
      "outputs": [
        {
          "output_type": "stream",
          "name": "stderr",
          "text": [
            "/usr/local/lib/python3.11/dist-packages/keras/src/layers/convolutional/base_conv.py:107: UserWarning: Do not pass an `input_shape`/`input_dim` argument to a layer. When using Sequential models, prefer using an `Input(shape)` object as the first layer in the model instead.\n",
            "  super().__init__(activity_regularizer=activity_regularizer, **kwargs)\n"
          ]
        }
      ]
    },
    {
      "cell_type": "code",
      "source": [
        "# we want to train the model\n",
        "# Train the model\n",
        "history = model.fit(\n",
        "    x_train, y_train,\n",
        "    epochs=10,\n",
        "    batch_size=32,\n",
        "    validation_data=(x_test, y_test),\n",
        "    callbacks=[tf.keras.callbacks.EarlyStopping(monitor='val_loss', patience=3, restore_best_weights=True)]\n",
        ")\n",
        "\n",
        "# What’s New Here?\n",
        "# The CNN will likely achieve higher accuracy than your fully connected model because it preserves the spatial structure of the images.\n",
        "\n",
        "# What’s Similar?\n",
        "# Training involves specifying the number of epochs, batch size, and validation data.\n",
        "# Early stopping is used to prevent overfitting, just like before."
      ],
      "metadata": {
        "colab": {
          "base_uri": "https://localhost:8080/"
        },
        "id": "1OZ89bYCVBao",
        "outputId": "805df929-7250-4712-e525-8b7b6f450579"
      },
      "execution_count": null,
      "outputs": [
        {
          "output_type": "stream",
          "name": "stdout",
          "text": [
            "Epoch 1/10\n",
            "\u001b[1m1875/1875\u001b[0m \u001b[32m━━━━━━━━━━━━━━━━━━━━\u001b[0m\u001b[37m\u001b[0m \u001b[1m57s\u001b[0m 29ms/step - accuracy: 0.9110 - loss: 0.2830 - val_accuracy: 0.9853 - val_loss: 0.0426\n",
            "Epoch 2/10\n",
            "\u001b[1m1875/1875\u001b[0m \u001b[32m━━━━━━━━━━━━━━━━━━━━\u001b[0m\u001b[37m\u001b[0m \u001b[1m82s\u001b[0m 29ms/step - accuracy: 0.9864 - loss: 0.0419 - val_accuracy: 0.9874 - val_loss: 0.0381\n",
            "Epoch 3/10\n",
            "\u001b[1m1875/1875\u001b[0m \u001b[32m━━━━━━━━━━━━━━━━━━━━\u001b[0m\u001b[37m\u001b[0m \u001b[1m55s\u001b[0m 29ms/step - accuracy: 0.9914 - loss: 0.0278 - val_accuracy: 0.9900 - val_loss: 0.0295\n",
            "Epoch 4/10\n",
            "\u001b[1m1875/1875\u001b[0m \u001b[32m━━━━━━━━━━━━━━━━━━━━\u001b[0m\u001b[37m\u001b[0m \u001b[1m56s\u001b[0m 30ms/step - accuracy: 0.9933 - loss: 0.0194 - val_accuracy: 0.9910 - val_loss: 0.0262\n",
            "Epoch 5/10\n",
            "\u001b[1m1875/1875\u001b[0m \u001b[32m━━━━━━━━━━━━━━━━━━━━\u001b[0m\u001b[37m\u001b[0m \u001b[1m81s\u001b[0m 29ms/step - accuracy: 0.9948 - loss: 0.0147 - val_accuracy: 0.9900 - val_loss: 0.0298\n",
            "Epoch 6/10\n",
            "\u001b[1m1875/1875\u001b[0m \u001b[32m━━━━━━━━━━━━━━━━━━━━\u001b[0m\u001b[37m\u001b[0m \u001b[1m55s\u001b[0m 29ms/step - accuracy: 0.9965 - loss: 0.0103 - val_accuracy: 0.9893 - val_loss: 0.0347\n",
            "Epoch 7/10\n",
            "\u001b[1m1875/1875\u001b[0m \u001b[32m━━━━━━━━━━━━━━━━━━━━\u001b[0m\u001b[37m\u001b[0m \u001b[1m82s\u001b[0m 29ms/step - accuracy: 0.9971 - loss: 0.0088 - val_accuracy: 0.9908 - val_loss: 0.0302\n"
          ]
        }
      ]
    },
    {
      "cell_type": "code",
      "source": [
        "# Visualize Predictions\n",
        "# You can visualize predictions just like you did before, but now the model should make fewer mistakes.\n",
        "import matplotlib.pyplot as plt\n",
        "import numpy as np\n",
        "\n",
        "# Make predictions on the test set\n",
        "predictions = model.predict(x_test)\n",
        "predicted_classes = np.argmax(predictions, axis=1)\n",
        "\n",
        "# Plot some examples\n",
        "for i in range(5):\n",
        "    plt.imshow(x_test[i].reshape(28, 28), cmap='gray')\n",
        "    plt.title(f\"Predicted: {predicted_classes[i]}, True: {np.argmax(y_test[i])}\")\n",
        "    plt.axis('off')\n",
        "    plt.show()\n",
        "\n",
        "# What’s New Here?\n",
        "# The CNN should predict the correct class more often, thanks to its ability to learn spatial features.\n",
        "# What’s Similar?\n",
        "# The visualization process is the same as before."
      ],
      "metadata": {
        "colab": {
          "base_uri": "https://localhost:8080/",
          "height": 1000
        },
        "id": "ELLs2iQyYT6B",
        "outputId": "d2e56a04-3027-4894-f5c1-2c6465edbafd"
      },
      "execution_count": null,
      "outputs": [
        {
          "output_type": "stream",
          "name": "stdout",
          "text": [
            "\u001b[1m313/313\u001b[0m \u001b[32m━━━━━━━━━━━━━━━━━━━━\u001b[0m\u001b[37m\u001b[0m \u001b[1m3s\u001b[0m 8ms/step\n"
          ]
        },
        {
          "output_type": "display_data",
          "data": {
            "text/plain": [
              "<Figure size 640x480 with 1 Axes>"
            ],
            "image/png": "[encoded data removed]"
          },
          "metadata": {}
        },
        {
          "output_type": "display_data",
          "data": {
            "text/plain": [
              "<Figure size 640x480 with 1 Axes>"
            ],
            "image/png": "[encoded data removed]"
          },
          "metadata": {}
        },
        {
          "output_type": "display_data",
          "data": {
            "text/plain": [
              "<Figure size 640x480 with 1 Axes>"
            ],
            "image/png": "[encoded data removed]"
          },
          "metadata": {}
        },
        {
          "output_type": "display_data",
          "data": {
            "text/plain": [
              "<Figure size 640x480 with 1 Axes>"
            ],
            "image/png": "[encoded data removed]"
          },
          "metadata": {}
        },
        {
          "output_type": "display_data",
          "data": {
            "text/plain": [
              "<Figure size 640x480 with 1 Axes>"
            ],
            "image/png": "[encoded data removed]"
          },
          "metadata": {}
        }
      ]
    },
    {
      "cell_type": "code",
      "source": [
        "# Evaluate the model on the MNIST test set\n",
        "test_loss, test_accuracy = model.evaluate(x_test, y_test)\n",
        "print(f\"Accuracy on MNIST Test Set: {test_accuracy * 100:.2f}%\")\n",
        "\n",
        "# What’s Happening Here?\n",
        "# model.evaluate() computes the loss and accuracy of the model on the test set.\n",
        "# test_accuracy is the percentage of correctly predicted labels."
      ],
      "metadata": {
        "colab": {
          "base_uri": "https://localhost:8080/"
        },
        "id": "g3KOg3tFikj9",
        "outputId": "bcbc7df4-9b76-4153-826a-cea832d202aa"
      },
      "execution_count": null,
      "outputs": [
        {
          "output_type": "stream",
          "name": "stdout",
          "text": [
            "\u001b[1m313/313\u001b[0m \u001b[32m━━━━━━━━━━━━━━━━━━━━\u001b[0m\u001b[37m\u001b[0m \u001b[1m4s\u001b[0m 12ms/step - accuracy: 0.9877 - loss: 0.0331\n",
            "Accuracy on MNIST Test Set: 99.10%\n"
          ]
        }
      ]
    },
    {
      "cell_type": "code",
      "source": [
        "# we want to pre process new data\n",
        "from PIL import Image\n",
        "import numpy as np\n",
        "from tensorflow.keras.utils import to_categorical\n",
        "\n",
        "# Function to preprocess a custom image\n",
        "def preprocess_image(image_path):\n",
        "    img = Image.open(image_path).convert('L')  # Convert to grayscale\n",
        "    img = img.resize((28, 28))                # Resize to 28x28 pixels\n",
        "    img = np.array(img)                      # Convert to NumPy array\n",
        "    img = 255 - img                          # Invert colors if necessary (assuming dark digits on light background)\n",
        "    img = (img > 128).astype('float32')      # Binarize the image (thresholding)\n",
        "    # Change the reshape to include the channel dimension\n",
        "    img = img.reshape(1, 28, 28, 1) / 255.0  # Reshape to (1, 28, 28, 1) and normalize\n",
        "    return img\n",
        "\n",
        "# List of paths to your custom images\n",
        "custom_image_paths = ['/content/digi1.jpg', '/content/digi2.jpg', '/content/digi3.jpg','/content/digi4.jpg','/content/digi5.jpg','/content/digi6.jpg','/content/digi7.jpg','/content/digit 9.jpg','/content/digit8.jpg']\n",
        "\n",
        "# True labels for your custom images\n",
        "custom_labels = [1,2,3,4,5,6,7,9,8]  # Replace with your actual labels\n",
        "\n",
        "# Preprocess all custom images\n",
        "custom_images = np.vstack([preprocess_image(path) for path in custom_image_paths])\n",
        "\n",
        "# Convert labels to one-hot encoding\n",
        "custom_labels_one_hot = to_categorical(custom_labels, num_classes=10)"
      ],
      "metadata": {
        "id": "s-M5uNgykUKv"
      },
      "execution_count": null,
      "outputs": []
    },
    {
      "cell_type": "code",
      "source": [
        "# we want to evaluate the model on custom images\n",
        "from sklearn.metrics import accuracy_score\n",
        "\n",
        "# Make predictions on custom images\n",
        "custom_predictions = model.predict(custom_images)\n",
        "custom_predicted_classes = np.argmax(custom_predictions, axis=1)\n",
        "\n",
        "# Calculate accuracy\n",
        "accuracy = accuracy_score(custom_labels, custom_predicted_classes)\n",
        "print(f\"Accuracy on Custom Images: {accuracy * 100:.2f}%\")\n",
        "\n",
        "# Print predictions for each custom image\n",
        "for i in range(len(custom_images)):\n",
        "    print(f\"Image {i}: Predicted = {custom_predicted_classes[i]}, True = {custom_labels[i]}\")"
      ],
      "metadata": {
        "colab": {
          "base_uri": "https://localhost:8080/"
        },
        "id": "CJy-F7Mkk73X",
        "outputId": "db1e2a0e-4472-4e48-df93-3a4c34b96dd9"
      },
      "execution_count": null,
      "outputs": [
        {
          "output_type": "stream",
          "name": "stdout",
          "text": [
            "\u001b[1m1/1\u001b[0m \u001b[32m━━━━━━━━━━━━━━━━━━━━\u001b[0m\u001b[37m\u001b[0m \u001b[1m0s\u001b[0m 53ms/step\n",
            "Accuracy on Custom Images: 11.11%\n",
            "Image 0: Predicted = 1, True = 1\n",
            "Image 1: Predicted = 1, True = 2\n",
            "Image 2: Predicted = 1, True = 3\n",
            "Image 3: Predicted = 1, True = 4\n",
            "Image 4: Predicted = 1, True = 5\n",
            "Image 5: Predicted = 1, True = 6\n",
            "Image 6: Predicted = 1, True = 7\n",
            "Image 7: Predicted = 1, True = 9\n",
            "Image 8: Predicted = 1, True = 8\n"
          ]
        }
      ]
    },
    {
      "cell_type": "code",
      "source": [
        "# 1. Visualize Preprocessed Custom Images\n",
        "# Visualize the preprocessed versions of your custom images to ensure they match the MNIST format.\n",
        "import matplotlib.pyplot as plt\n",
        "\n",
        "# Visualize preprocessed custom images\n",
        "for i in range(len(custom_images)):\n",
        "    plt.imshow(custom_images[i].reshape(28, 28), cmap='gray')\n",
        "    plt.title(f\"Preprocessed Image {i}, True Label = {custom_labels[i]}\")\n",
        "    plt.axis('off')\n",
        "    plt.show()\n",
        "\n",
        "# What to Look For :\n",
        "# Are the digits centered within the 28x28 grid?\n",
        "# Are the digits properly binarized (black and white)?\n",
        "# Is there any noise or artifacts in the background?\n",
        "# If the preprocessed images don’t look like the MNIST images, adjust your preprocessing pipeline."
      ],
      "metadata": {
        "colab": {
          "base_uri": "https://localhost:8080/",
          "height": 1000
        },
        "id": "DnmFW2c7nRNv",
        "outputId": "951953f5-87b7-474a-878b-82a85a2f606a"
      },
      "execution_count": null,
      "outputs": [
        {
          "output_type": "display_data",
          "data": {
            "text/plain": [
              "<Figure size 640x480 with 1 Axes>"
            ],
            "image/png": "[encoded data removed]"
          },
          "metadata": {}
        },
        {
          "output_type": "display_data",
          "data": {
            "text/plain": [
              "<Figure size 640x480 with 1 Axes>"
            ],
            "image/png": "[encoded data removed]"
          },
          "metadata": {}
        },
        {
          "output_type": "display_data",
          "data": {
            "text/plain": [
              "<Figure size 640x480 with 1 Axes>"
            ],
            "image/png": "[encoded data removed]"
          },
          "metadata": {}
        },
        {
          "output_type": "display_data",
          "data": {
            "text/plain": [
              "<Figure size 640x480 with 1 Axes>"
            ],
            "image/png": "[encoded data removed]"
          },
          "metadata": {}
        },
        {
          "output_type": "display_data",
          "data": {
            "text/plain": [
              "<Figure size 640x480 with 1 Axes>"
            ],
            "image/png": "[encoded data removed]"
          },
          "metadata": {}
        },
        {
          "output_type": "display_data",
          "data": {
            "text/plain": [
              "<Figure size 640x480 with 1 Axes>"
            ],
            "image/png": "[encoded data removed]"
          },
          "metadata": {}
        },
        {
          "output_type": "display_data",
          "data": {
            "text/plain": [
              "<Figure size 640x480 with 1 Axes>"
            ],
            "image/png": "[encoded data removed]"
          },
          "metadata": {}
        },
        {
          "output_type": "display_data",
          "data": {
            "text/plain": [
              "<Figure size 640x480 with 1 Axes>"
            ],
            "image/png": "[encoded data removed]"
          },
          "metadata": {}
        },
        {
          "output_type": "display_data",
          "data": {
            "text/plain": [
              "<Figure size 640x480 with 1 Axes>"
            ],
            "image/png": "[encoded data removed]"
          },
          "metadata": {}
        }
      ]
    },
    {
      "cell_type": "code",
      "source": [
        "#Check Class Distribution in Training Data\n",
        "# Ensure that the training data is balanced across all classes.\n",
        "\n",
        "\n",
        "import numpy as np\n",
        "\n",
        "# Check class distribution in MNIST training labels\n",
        "unique, counts = np.unique(np.argmax(y_train, axis=1), return_counts=True)\n",
        "print(dict(zip(unique, counts)))\n",
        "\n",
        "# What to Look For :\n",
        "# If one class (e.g., 1) is significantly more frequent than others, the model might be biased toward that class.\n",
        "# If there’s an imbalance, consider using techniques like:\n",
        "\n",
        "# Class weighting : Adjust the loss function to penalize misclassifications of minority classes more heavily.\n",
        "# Oversampling : Increase the representation of minority classes in the training data."
      ],
      "metadata": {
        "colab": {
          "base_uri": "https://localhost:8080/"
        },
        "id": "VewLrN9xoF2l",
        "outputId": "497f02a9-8ec6-416c-9ab3-8eda562e6fd2"
      },
      "execution_count": null,
      "outputs": [
        {
          "output_type": "stream",
          "name": "stdout",
          "text": [
            "{np.int64(0): np.int64(5923), np.int64(1): np.int64(6742), np.int64(2): np.int64(5958), np.int64(3): np.int64(6131), np.int64(4): np.int64(5842), np.int64(5): np.int64(5421), np.int64(6): np.int64(5918), np.int64(7): np.int64(6265), np.int64(8): np.int64(5851), np.int64(9): np.int64(5949)}\n"
          ]
        }
      ]
    },
    {
      "cell_type": "code",
      "source": [
        "# Evaluate Model on MNIST Test Set\n",
        "# Check how well the model performs on the MNIST test set to determine if the issue is specific to your custom images or a broader problem.\n",
        "\n",
        "# Evaluate on MNIST test set\n",
        "test_loss, test_accuracy = model.evaluate(x_test, y_test)\n",
        "print(f\"Accuracy on MNIST Test Set: {test_accuracy * 100:.2f}%\")\n",
        "\n",
        "# What to Expect :\n",
        "# If the model performs well on the MNIST test set but poorly on your custom images, the issue is likely with the preprocessing or generalization to your custom data.\n",
        "# If the model performs poorly on both datasets, the issue might be with the model itself (e.g., underfitting or overfitting)."
      ],
      "metadata": {
        "colab": {
          "base_uri": "https://localhost:8080/"
        },
        "id": "f1EbgHCwpHsE",
        "outputId": "8bc5aa39-422e-411b-d4c8-c99b856e43d5"
      },
      "execution_count": null,
      "outputs": [
        {
          "output_type": "stream",
          "name": "stdout",
          "text": [
            "\u001b[1m313/313\u001b[0m \u001b[32m━━━━━━━━━━━━━━━━━━━━\u001b[0m\u001b[37m\u001b[0m \u001b[1m4s\u001b[0m 12ms/step - accuracy: 0.9877 - loss: 0.0331\n",
            "Accuracy on MNIST Test Set: 99.10%\n"
          ]
        }
      ]
    },
    {
      "cell_type": "code",
      "source": [
        "# Fine-Tune the Model with Custom Data\n",
        "# Since your custom images differ from the MNIST dataset, fine-tuning the model with your custom data can help improve performance.\n",
        "\n",
        "from tensorflow.keras.utils import to_categorical\n",
        "\n",
        "# Combine MNIST training data with custom data\n",
        "x_combined = np.vstack([x_train, custom_images])\n",
        "y_combined = np.vstack([y_train, custom_labels_one_hot])\n",
        "\n",
        "# Shuffle the combined dataset\n",
        "from sklearn.utils import shuffle\n",
        "x_combined, y_combined = shuffle(x_combined, y_combined, random_state=42)\n",
        "\n",
        "# Retrain the model\n",
        "model.fit(\n",
        "    x_combined, y_combined,\n",
        "    epochs=10,\n",
        "    batch_size=32,\n",
        "    validation_data=(x_test, y_test)\n",
        ")\n",
        "\n",
        "# Why This Helps :\n",
        "# Fine-tuning allows the model to learn patterns specific to your custom data while retaining knowledge from the MNIST dataset."
      ],
      "metadata": {
        "id": "R3gAwE3-peIo"
      },
      "execution_count": null,
      "outputs": []
    },
    {
      "cell_type": "code",
      "source": [
        "#  Experiment with Data Augmentation\n",
        "# If your custom images are limited in number, data augmentation can help the model generalize better.\n",
        "from tensorflow.keras.preprocessing.image import ImageDataGenerator\n",
        "\n",
        "# Define data augmentation\n",
        "datagen = ImageDataGenerator(\n",
        "    rotation_range=10,       # Randomly rotate images\n",
        "    width_shift_range=0.1,   # Randomly shift images horizontally\n",
        "    height_shift_range=0.1,  # Randomly shift images vertically\n",
        "    zoom_range=0.1           # Randomly zoom in on images\n",
        ")\n",
        "\n",
        "# Fit the data generator on your custom images\n",
        "datagen.fit(custom_images)\n",
        "\n",
        "# Train the model with augmented data\n",
        "model.fit(\n",
        "    datagen.flow(custom_images, custom_labels_one_hot, batch_size=32),\n",
        "    epochs=10,\n",
        "    validation_data=(x_test, y_test)\n",
        ")\n",
        "\n",
        "# Why This Helps :\n",
        "# Data augmentation increases the diversity of your custom dataset, making the model more robust to variations in handwriting."
      ],
      "metadata": {
        "colab": {
          "base_uri": "https://localhost:8080/"
        },
        "id": "NxcDVQvAqS1N",
        "outputId": "29be42eb-f29e-445b-e948-74c38e0c2acd"
      },
      "execution_count": null,
      "outputs": [
        {
          "output_type": "stream",
          "name": "stdout",
          "text": [
            "Epoch 1/10\n"
          ]
        },
        {
          "output_type": "stream",
          "name": "stderr",
          "text": [
            "/usr/local/lib/python3.11/dist-packages/keras/src/trainers/data_adapters/py_dataset_adapter.py:121: UserWarning: Your `PyDataset` class should call `super().__init__(**kwargs)` in its constructor. `**kwargs` can include `workers`, `use_multiprocessing`, `max_queue_size`. Do not pass these arguments to `fit()`, as they will be ignored.\n",
            "  self._warn_if_super_not_called()\n"
          ]
        },
        {
          "output_type": "stream",
          "name": "stdout",
          "text": [
            "\u001b[1m1/1\u001b[0m \u001b[32m━━━━━━━━━━━━━━━━━━━━\u001b[0m\u001b[37m\u001b[0m \u001b[1m4s\u001b[0m 4s/step - accuracy: 0.1111 - loss: 2.3095 - val_accuracy: 0.9910 - val_loss: 0.0260\n",
            "Epoch 2/10\n",
            "\u001b[1m1/1\u001b[0m \u001b[32m━━━━━━━━━━━━━━━━━━━━\u001b[0m\u001b[37m\u001b[0m \u001b[1m3s\u001b[0m 3s/step - accuracy: 0.1111 - loss: 2.3077 - val_accuracy: 0.9914 - val_loss: 0.0260\n",
            "Epoch 3/10\n",
            "\u001b[1m1/1\u001b[0m \u001b[32m━━━━━━━━━━━━━━━━━━━━\u001b[0m\u001b[37m\u001b[0m \u001b[1m8s\u001b[0m 8s/step - accuracy: 0.1111 - loss: 2.3049 - val_accuracy: 0.9917 - val_loss: 0.0259\n",
            "Epoch 4/10\n",
            "\u001b[1m1/1\u001b[0m \u001b[32m━━━━━━━━━━━━━━━━━━━━\u001b[0m\u001b[37m\u001b[0m \u001b[1m3s\u001b[0m 3s/step - accuracy: 0.1111 - loss: 2.3016 - val_accuracy: 0.9916 - val_loss: 0.0259\n",
            "Epoch 5/10\n",
            "\u001b[1m1/1\u001b[0m \u001b[32m━━━━━━━━━━━━━━━━━━━━\u001b[0m\u001b[37m\u001b[0m \u001b[1m3s\u001b[0m 3s/step - accuracy: 0.1111 - loss: 2.2980 - val_accuracy: 0.9916 - val_loss: 0.0260\n",
            "Epoch 6/10\n",
            "\u001b[1m1/1\u001b[0m \u001b[32m━━━━━━━━━━━━━━━━━━━━\u001b[0m\u001b[37m\u001b[0m \u001b[1m3s\u001b[0m 3s/step - accuracy: 0.1111 - loss: 2.2944 - val_accuracy: 0.9915 - val_loss: 0.0260\n",
            "Epoch 7/10\n",
            "\u001b[1m1/1\u001b[0m \u001b[32m━━━━━━━━━━━━━━━━━━━━\u001b[0m\u001b[37m\u001b[0m \u001b[1m5s\u001b[0m 5s/step - accuracy: 0.1111 - loss: 2.2910 - val_accuracy: 0.9914 - val_loss: 0.0261\n",
            "Epoch 8/10\n",
            "\u001b[1m1/1\u001b[0m \u001b[32m━━━━━━━━━━━━━━━━━━━━\u001b[0m\u001b[37m\u001b[0m \u001b[1m5s\u001b[0m 5s/step - accuracy: 0.1111 - loss: 2.2878 - val_accuracy: 0.9913 - val_loss: 0.0263\n",
            "Epoch 9/10\n",
            "\u001b[1m1/1\u001b[0m \u001b[32m━━━━━━━━━━━━━━━━━━━━\u001b[0m\u001b[37m\u001b[0m \u001b[1m5s\u001b[0m 5s/step - accuracy: 0.1111 - loss: 2.2847 - val_accuracy: 0.9913 - val_loss: 0.0264\n",
            "Epoch 10/10\n",
            "\u001b[1m1/1\u001b[0m \u001b[32m━━━━━━━━━━━━━━━━━━━━\u001b[0m\u001b[37m\u001b[0m \u001b[1m3s\u001b[0m 3s/step - accuracy: 0.1111 - loss: 2.2818 - val_accuracy: 0.9912 - val_loss: 0.0265\n"
          ]
        },
        {
          "output_type": "execute_result",
          "data": {
            "text/plain": [
              "<keras.src.callbacks.history.History at 0x7fde54dbec50>"
            ]
          },
          "metadata": {},
          "execution_count": 15
        }
      ]
    },
    {
      "cell_type": "code",
      "source": [
        "# we want to evaluate the model on custom images\n",
        "from sklearn.metrics import accuracy_score\n",
        "\n",
        "# Make predictions on custom images\n",
        "custom_predictions = model.predict(custom_images)\n",
        "custom_predicted_classes = np.argmax(custom_predictions, axis=1)\n",
        "\n",
        "# Calculate accuracy\n",
        "accuracy = accuracy_score(custom_labels, custom_predicted_classes)\n",
        "print(f\"Accuracy on Custom Images: {accuracy * 100:.2f}%\")"
      ],
      "metadata": {
        "colab": {
          "base_uri": "https://localhost:8080/"
        },
        "id": "R_ourbY2rDlD",
        "outputId": "9c3673f1-d92b-4cd4-d579-c51d86d3f4c2"
      },
      "execution_count": null,
      "outputs": [
        {
          "output_type": "stream",
          "name": "stdout",
          "text": [
            "\u001b[1m1/1\u001b[0m \u001b[32m━━━━━━━━━━━━━━━━━━━━\u001b[0m\u001b[37m\u001b[0m \u001b[1m0s\u001b[0m 41ms/step\n",
            "Accuracy on Custom Images: 11.11%\n"
          ]
        }
      ]
    },
    {
      "source": [
        "# Combine MNIST training data with custom data\n",
        "x_combined = np.vstack([x_train, custom_images])\n",
        "y_combined = np.vstack([y_train, custom_labels_one_hot])\n",
        "\n",
        "    # Shuffle the combined dataset\n",
        "from sklearn.utils import shuffle\n",
        "x_combined, y_combined = shuffle(x_combined, y_combined, random_state=42)\n",
        "\n",
        "  # Retrain the model\n",
        "model.fit(\n",
        "        x_combined, y_combined,\n",
        "        epochs=10,\n",
        "        batch_size=32,\n",
        "        validation_data=(x_test, y_test)\n",
        "\n",
        "    )\n"
      ],
      "cell_type": "code",
      "metadata": {
        "colab": {
          "base_uri": "https://localhost:8080/"
        },
        "id": "16Kao3C3rc6c",
        "outputId": "608b067b-1004-4490-ef08-ffb2d5fae77a"
      },
      "execution_count": null,
      "outputs": [
        {
          "output_type": "stream",
          "name": "stdout",
          "text": [
            "Epoch 1/10\n",
            "\u001b[1m1876/1876\u001b[0m \u001b[32m━━━━━━━━━━━━━━━━━━━━\u001b[0m\u001b[37m\u001b[0m \u001b[1m57s\u001b[0m 30ms/step - accuracy: 0.9940 - loss: 0.0176 - val_accuracy: 0.9906 - val_loss: 0.0294\n",
            "Epoch 2/10\n",
            "\u001b[1m1876/1876\u001b[0m \u001b[32m━━━━━━━━━━━━━━━━━━━━\u001b[0m\u001b[37m\u001b[0m \u001b[1m81s\u001b[0m 29ms/step - accuracy: 0.9966 - loss: 0.0102 - val_accuracy: 0.9886 - val_loss: 0.0376\n",
            "Epoch 3/10\n",
            "\u001b[1m1876/1876\u001b[0m \u001b[32m━━━━━━━━━━━━━━━━━━━━\u001b[0m\u001b[37m\u001b[0m \u001b[1m84s\u001b[0m 31ms/step - accuracy: 0.9974 - loss: 0.0080 - val_accuracy: 0.9910 - val_loss: 0.0316\n",
            "Epoch 4/10\n",
            "\u001b[1m1876/1876\u001b[0m \u001b[32m━━━━━━━━━━━━━━━━━━━━\u001b[0m\u001b[37m\u001b[0m \u001b[1m79s\u001b[0m 29ms/step - accuracy: 0.9976 - loss: 0.0070 - val_accuracy: 0.9905 - val_loss: 0.0320\n",
            "Epoch 5/10\n",
            "\u001b[1m1876/1876\u001b[0m \u001b[32m━━━━━━━━━━━━━━━━━━━━\u001b[0m\u001b[37m\u001b[0m \u001b[1m55s\u001b[0m 30ms/step - accuracy: 0.9983 - loss: 0.0051 - val_accuracy: 0.9912 - val_loss: 0.0405\n",
            "Epoch 6/10\n",
            "\u001b[1m1876/1876\u001b[0m \u001b[32m━━━━━━━━━━━━━━━━━━━━\u001b[0m\u001b[37m\u001b[0m \u001b[1m82s\u001b[0m 30ms/step - accuracy: 0.9980 - loss: 0.0062 - val_accuracy: 0.9913 - val_loss: 0.0358\n",
            "Epoch 7/10\n",
            "\u001b[1m1876/1876\u001b[0m \u001b[32m━━━━━━━━━━━━━━━━━━━━\u001b[0m\u001b[37m\u001b[0m \u001b[1m80s\u001b[0m 29ms/step - accuracy: 0.9979 - loss: 0.0058 - val_accuracy: 0.9908 - val_loss: 0.0382\n",
            "Epoch 8/10\n",
            "\u001b[1m1876/1876\u001b[0m \u001b[32m━━━━━━━━━━━━━━━━━━━━\u001b[0m\u001b[37m\u001b[0m \u001b[1m82s\u001b[0m 29ms/step - accuracy: 0.9986 - loss: 0.0040 - val_accuracy: 0.9907 - val_loss: 0.0437\n",
            "Epoch 9/10\n",
            "\u001b[1m1876/1876\u001b[0m \u001b[32m━━━━━━━━━━━━━━━━━━━━\u001b[0m\u001b[37m\u001b[0m \u001b[1m85s\u001b[0m 31ms/step - accuracy: 0.9984 - loss: 0.0046 - val_accuracy: 0.9914 - val_loss: 0.0393\n",
            "Epoch 10/10\n",
            "\u001b[1m1876/1876\u001b[0m \u001b[32m━━━━━━━━━━━━━━━━━━━━\u001b[0m\u001b[37m\u001b[0m \u001b[1m79s\u001b[0m 29ms/step - accuracy: 0.9983 - loss: 0.0045 - val_accuracy: 0.9895 - val_loss: 0.0501\n"
          ]
        },
        {
          "output_type": "execute_result",
          "data": {
            "text/plain": [
              "<keras.src.callbacks.history.History at 0x7fde547654d0>"
            ]
          },
          "metadata": {},
          "execution_count": 18
        }
      ]
    }
  ]
}