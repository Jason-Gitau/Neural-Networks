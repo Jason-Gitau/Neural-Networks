{
  "nbformat": 4,
  "nbformat_minor": 0,
  "metadata": {
    "colab": {
      "provenance": [],
      "authorship_tag": "ABX9TyPaBD9N3Bh42O0AVOKtpDWs",
      "include_colab_link": true
    },
    "kernelspec": {
      "name": "python3",
      "display_name": "Python 3"
    },
    "language_info": {
      "name": "python"
    }
  },
  "cells": [
    {
      "cell_type": "markdown",
      "metadata": {
        "id": "view-in-github",
        "colab_type": "text"
      },
      "source": [
        "<a href=\"https://colab.research.google.com/github/Jason-Gitau/Neural-Networks/blob/main/version1.ipynb\" target=\"_parent\"><img src=\"https://colab.research.google.com/assets/colab-badge.svg\" alt=\"Open In Colab\"/></a>"
      ]
    },
    {
      "cell_type": "code",
      "source": [
        "!pip install tensorflow"
      ],
      "metadata": {
        "colab": {
          "base_uri": "https://localhost:8080/"
        },
        "collapsed": true,
        "id": "luQPK1-pGyGP",
        "outputId": "06e3b12e-5022-45db-c1d2-cb15ff5303f6"
      },
      "execution_count": 2,
      "outputs": [
        {
          "output_type": "stream",
          "name": "stdout",
          "text": [
            "Requirement already satisfied: tensorflow in /usr/local/lib/python3.11/dist-packages (2.18.0)\n",
            "Requirement already satisfied: absl-py>=1.0.0 in /usr/local/lib/python3.11/dist-packages (from tensorflow) (1.4.0)\n",
            "Requirement already satisfied: astunparse>=1.6.0 in /usr/local/lib/python3.11/dist-packages (from tensorflow) (1.6.3)\n",
            "Requirement already satisfied: flatbuffers>=24.3.25 in /usr/local/lib/python3.11/dist-packages (from tensorflow) (25.2.10)\n",
            "Requirement already satisfied: gast!=0.5.0,!=0.5.1,!=0.5.2,>=0.2.1 in /usr/local/lib/python3.11/dist-packages (from tensorflow) (0.6.0)\n",
            "Requirement already satisfied: google-pasta>=0.1.1 in /usr/local/lib/python3.11/dist-packages (from tensorflow) (0.2.0)\n",
            "Requirement already satisfied: libclang>=13.0.0 in /usr/local/lib/python3.11/dist-packages (from tensorflow) (18.1.1)\n",
            "Requirement already satisfied: opt-einsum>=2.3.2 in /usr/local/lib/python3.11/dist-packages (from tensorflow) (3.4.0)\n",
            "Requirement already satisfied: packaging in /usr/local/lib/python3.11/dist-packages (from tensorflow) (24.2)\n",
            "Requirement already satisfied: protobuf!=4.21.0,!=4.21.1,!=4.21.2,!=4.21.3,!=4.21.4,!=4.21.5,<6.0.0dev,>=3.20.3 in /usr/local/lib/python3.11/dist-packages (from tensorflow) (5.29.4)\n",
            "Requirement already satisfied: requests<3,>=2.21.0 in /usr/local/lib/python3.11/dist-packages (from tensorflow) (2.32.3)\n",
            "Requirement already satisfied: setuptools in /usr/local/lib/python3.11/dist-packages (from tensorflow) (75.2.0)\n",
            "Requirement already satisfied: six>=1.12.0 in /usr/local/lib/python3.11/dist-packages (from tensorflow) (1.17.0)\n",
            "Requirement already satisfied: termcolor>=1.1.0 in /usr/local/lib/python3.11/dist-packages (from tensorflow) (3.1.0)\n",
            "Requirement already satisfied: typing-extensions>=3.6.6 in /usr/local/lib/python3.11/dist-packages (from tensorflow) (4.13.2)\n",
            "Requirement already satisfied: wrapt>=1.11.0 in /usr/local/lib/python3.11/dist-packages (from tensorflow) (1.17.2)\n",
            "Requirement already satisfied: grpcio<2.0,>=1.24.3 in /usr/local/lib/python3.11/dist-packages (from tensorflow) (1.71.0)\n",
            "Requirement already satisfied: tensorboard<2.19,>=2.18 in /usr/local/lib/python3.11/dist-packages (from tensorflow) (2.18.0)\n",
            "Requirement already satisfied: keras>=3.5.0 in /usr/local/lib/python3.11/dist-packages (from tensorflow) (3.8.0)\n",
            "Requirement already satisfied: numpy<2.1.0,>=1.26.0 in /usr/local/lib/python3.11/dist-packages (from tensorflow) (2.0.2)\n",
            "Requirement already satisfied: h5py>=3.11.0 in /usr/local/lib/python3.11/dist-packages (from tensorflow) (3.13.0)\n",
            "Requirement already satisfied: ml-dtypes<0.5.0,>=0.4.0 in /usr/local/lib/python3.11/dist-packages (from tensorflow) (0.4.1)\n",
            "Requirement already satisfied: tensorflow-io-gcs-filesystem>=0.23.1 in /usr/local/lib/python3.11/dist-packages (from tensorflow) (0.37.1)\n",
            "Requirement already satisfied: wheel<1.0,>=0.23.0 in /usr/local/lib/python3.11/dist-packages (from astunparse>=1.6.0->tensorflow) (0.45.1)\n",
            "Requirement already satisfied: rich in /usr/local/lib/python3.11/dist-packages (from keras>=3.5.0->tensorflow) (13.9.4)\n",
            "Requirement already satisfied: namex in /usr/local/lib/python3.11/dist-packages (from keras>=3.5.0->tensorflow) (0.0.9)\n",
            "Requirement already satisfied: optree in /usr/local/lib/python3.11/dist-packages (from keras>=3.5.0->tensorflow) (0.15.0)\n",
            "Requirement already satisfied: charset-normalizer<4,>=2 in /usr/local/lib/python3.11/dist-packages (from requests<3,>=2.21.0->tensorflow) (3.4.2)\n",
            "Requirement already satisfied: idna<4,>=2.5 in /usr/local/lib/python3.11/dist-packages (from requests<3,>=2.21.0->tensorflow) (3.10)\n",
            "Requirement already satisfied: urllib3<3,>=1.21.1 in /usr/local/lib/python3.11/dist-packages (from requests<3,>=2.21.0->tensorflow) (2.4.0)\n",
            "Requirement already satisfied: certifi>=2017.4.17 in /usr/local/lib/python3.11/dist-packages (from requests<3,>=2.21.0->tensorflow) (2025.4.26)\n",
            "Requirement already satisfied: markdown>=2.6.8 in /usr/local/lib/python3.11/dist-packages (from tensorboard<2.19,>=2.18->tensorflow) (3.8)\n",
            "Requirement already satisfied: tensorboard-data-server<0.8.0,>=0.7.0 in /usr/local/lib/python3.11/dist-packages (from tensorboard<2.19,>=2.18->tensorflow) (0.7.2)\n",
            "Requirement already satisfied: werkzeug>=1.0.1 in /usr/local/lib/python3.11/dist-packages (from tensorboard<2.19,>=2.18->tensorflow) (3.1.3)\n",
            "Requirement already satisfied: MarkupSafe>=2.1.1 in /usr/local/lib/python3.11/dist-packages (from werkzeug>=1.0.1->tensorboard<2.19,>=2.18->tensorflow) (3.0.2)\n",
            "Requirement already satisfied: markdown-it-py>=2.2.0 in /usr/local/lib/python3.11/dist-packages (from rich->keras>=3.5.0->tensorflow) (3.0.0)\n",
            "Requirement already satisfied: pygments<3.0.0,>=2.13.0 in /usr/local/lib/python3.11/dist-packages (from rich->keras>=3.5.0->tensorflow) (2.19.1)\n",
            "Requirement already satisfied: mdurl~=0.1 in /usr/local/lib/python3.11/dist-packages (from markdown-it-py>=2.2.0->rich->keras>=3.5.0->tensorflow) (0.1.2)\n"
          ]
        }
      ]
    },
    {
      "source": [
        "from tensorflow.keras.models import Sequential\n",
        "from tensorflow.keras.layers import Dense\n",
        "from tensorflow.keras.datasets import mnist\n",
        "from tensorflow.keras.utils import to_categorical"
      ],
      "cell_type": "code",
      "metadata": {
        "id": "aLZW0fBxHRc5"
      },
      "execution_count": 3,
      "outputs": []
    },
    {
      "cell_type": "code",
      "source": [
        "# we want to load the mnist datasets\n",
        "(x_train, y_train), (x_test, y_test) = mnist.load_data()"
      ],
      "metadata": {
        "colab": {
          "base_uri": "https://localhost:8080/"
        },
        "collapsed": true,
        "id": "MXfwZuFJHlqd",
        "outputId": "389e9005-d06e-466a-e438-d95cd8680358"
      },
      "execution_count": 4,
      "outputs": [
        {
          "output_type": "stream",
          "name": "stdout",
          "text": [
            "Downloading data from https://storage.googleapis.com/tensorflow/tf-keras-datasets/mnist.npz\n",
            "\u001b[1m11490434/11490434\u001b[0m \u001b[32m━━━━━━━━━━━━━━━━━━━━\u001b[0m\u001b[37m\u001b[0m \u001b[1m1s\u001b[0m 0us/step\n"
          ]
        }
      ]
    },
    {
      "cell_type": "code",
      "source": [
        "# we want to preprocess the data\n",
        "x_train = x_train.reshape(-1, 784).astype('float32') / 255.0\n",
        "x_test = x_test.reshape(-1, 784).astype('float32') / 255.0\n"
      ],
      "metadata": {
        "id": "Fz6NTyIzH7Sd"
      },
      "execution_count": 5,
      "outputs": []
    },
    {
      "cell_type": "code",
      "source": [
        "\n",
        "y_train = to_categorical(y_train, 10)\n",
        "y_test = to_categorical(y_test, 10)"
      ],
      "metadata": {
        "id": "n2qef_MbJoBG"
      },
      "execution_count": 6,
      "outputs": []
    },
    {
      "cell_type": "code",
      "source": [
        "# we want to now build the model\n",
        "model = Sequential([\n",
        "    Dense(128, activation='relu', input_shape=(784,)),  # Input layer + first hidden layer\n",
        "    Dense(64, activation='relu'),                       # Second hidden layer\n",
        "    Dense(10, activation='softmax')                    # Output layer (10 classes)\n",
        "])"
      ],
      "metadata": {
        "colab": {
          "base_uri": "https://localhost:8080/"
        },
        "id": "g3tPrFo7Nrvi",
        "outputId": "b0ec2de9-3242-4d2f-ae37-8d2436ec9bca"
      },
      "execution_count": 7,
      "outputs": [
        {
          "output_type": "stream",
          "name": "stderr",
          "text": [
            "/usr/local/lib/python3.11/dist-packages/keras/src/layers/core/dense.py:87: UserWarning: Do not pass an `input_shape`/`input_dim` argument to a layer. When using Sequential models, prefer using an `Input(shape)` object as the first layer in the model instead.\n",
            "  super().__init__(activity_regularizer=activity_regularizer, **kwargs)\n"
          ]
        }
      ]
    },
    {
      "cell_type": "code",
      "source": [
        "# we want to compile the model\n",
        "model.compile(optimizer='adam', loss='categorical_crossentropy', metrics=['accuracy'])"
      ],
      "metadata": {
        "id": "5talJ2G2OGRs"
      },
      "execution_count": 8,
      "outputs": []
    },
    {
      "cell_type": "code",
      "source": [
        "# we want to train the model\n",
        "model.fit(x_train, y_train, epochs=5, batch_size=32, validation_data=(x_test, y_test))"
      ],
      "metadata": {
        "colab": {
          "base_uri": "https://localhost:8080/"
        },
        "id": "qp06pH7hOMSt",
        "outputId": "a633fbd9-b39a-44ea-a34f-7a1d06f97869"
      },
      "execution_count": 9,
      "outputs": [
        {
          "output_type": "stream",
          "name": "stdout",
          "text": [
            "Epoch 1/5\n",
            "\u001b[1m1875/1875\u001b[0m \u001b[32m━━━━━━━━━━━━━━━━━━━━\u001b[0m\u001b[37m\u001b[0m \u001b[1m19s\u001b[0m 9ms/step - accuracy: 0.8708 - loss: 0.4395 - val_accuracy: 0.9670 - val_loss: 0.1085\n",
            "Epoch 2/5\n",
            "\u001b[1m1875/1875\u001b[0m \u001b[32m━━━━━━━━━━━━━━━━━━━━\u001b[0m\u001b[37m\u001b[0m \u001b[1m8s\u001b[0m 4ms/step - accuracy: 0.9673 - loss: 0.1067 - val_accuracy: 0.9720 - val_loss: 0.0877\n",
            "Epoch 3/5\n",
            "\u001b[1m1875/1875\u001b[0m \u001b[32m━━━━━━━━━━━━━━━━━━━━\u001b[0m\u001b[37m\u001b[0m \u001b[1m8s\u001b[0m 4ms/step - accuracy: 0.9779 - loss: 0.0694 - val_accuracy: 0.9739 - val_loss: 0.0867\n",
            "Epoch 4/5\n",
            "\u001b[1m1875/1875\u001b[0m \u001b[32m━━━━━━━━━━━━━━━━━━━━\u001b[0m\u001b[37m\u001b[0m \u001b[1m9s\u001b[0m 3ms/step - accuracy: 0.9838 - loss: 0.0498 - val_accuracy: 0.9728 - val_loss: 0.0848\n",
            "Epoch 5/5\n",
            "\u001b[1m1875/1875\u001b[0m \u001b[32m━━━━━━━━━━━━━━━━━━━━\u001b[0m\u001b[37m\u001b[0m \u001b[1m8s\u001b[0m 4ms/step - accuracy: 0.9879 - loss: 0.0381 - val_accuracy: 0.9765 - val_loss: 0.0747\n"
          ]
        },
        {
          "output_type": "execute_result",
          "data": {
            "text/plain": [
              "<keras.src.callbacks.history.History at 0x7f7841113810>"
            ]
          },
          "metadata": {},
          "execution_count": 9
        }
      ]
    },
    {
      "cell_type": "code",
      "source": [
        "# Use the trained model to make predictions on the test set\n",
        "predictions = model.predict(x_test)\n",
        "\n",
        "# Display the predictions for the first 5 test samples\n",
        "for i in range(5):\n",
        "    print(f\"Predicted probabilities for sample {i}: {predictions[i]}\")\n",
        "    print(f\"Most likely class: {predictions[i].argmax()}\")  # Class with the highest probability\n",
        "    print(f\"True label: {y_test[i].argmax()}\\n\")  # True label (one-hot encoded)"
      ],
      "metadata": {
        "colab": {
          "base_uri": "https://localhost:8080/"
        },
        "id": "8gmwoGGITJVY",
        "outputId": "4ca7567d-003c-4835-8302-1241982504d7"
      },
      "execution_count": 10,
      "outputs": [
        {
          "output_type": "stream",
          "name": "stdout",
          "text": [
            "\u001b[1m313/313\u001b[0m \u001b[32m━━━━━━━━━━━━━━━━━━━━\u001b[0m\u001b[37m\u001b[0m \u001b[1m1s\u001b[0m 2ms/step\n",
            "Predicted probabilities for sample 0: [2.2861029e-08 2.9384910e-07 1.0053957e-06 4.2849289e-05 2.3939123e-10\n",
            " 3.0372760e-07 3.0695279e-13 9.9994451e-01 2.8304478e-07 1.0683257e-05]\n",
            "Most likely class: 7\n",
            "True label: 7\n",
            "\n",
            "Predicted probabilities for sample 1: [3.8469668e-07 8.3834268e-05 9.9991173e-01 3.7424466e-06 1.8118638e-15\n",
            " 1.5088827e-10 1.4260035e-10 3.3358762e-09 1.8810154e-07 1.9563344e-13]\n",
            "Most likely class: 2\n",
            "True label: 2\n",
            "\n",
            "Predicted probabilities for sample 2: [1.5893667e-09 9.9998420e-01 3.5597262e-07 3.2941291e-08 7.5866728e-06\n",
            " 3.0122838e-08 2.1263799e-07 7.2866515e-06 3.1483063e-07 4.0273904e-09]\n",
            "Most likely class: 1\n",
            "True label: 1\n",
            "\n",
            "Predicted probabilities for sample 3: [9.99948442e-01 2.86840973e-09 1.13138658e-05 1.70766246e-08\n",
            " 1.74838206e-08 8.10711498e-09 6.41115889e-07 1.22690735e-05\n",
            " 5.57494459e-08 2.72635680e-05]\n",
            "Most likely class: 0\n",
            "True label: 0\n",
            "\n",
            "Predicted probabilities for sample 4: [2.2122038e-06 1.6880394e-07 3.6964278e-07 1.7483989e-08 9.9925089e-01\n",
            " 6.4523761e-08 6.1942522e-08 6.5872737e-06 2.3933694e-07 7.3932967e-04]\n",
            "Most likely class: 4\n",
            "True label: 4\n",
            "\n"
          ]
        }
      ]
    },
    {
      "cell_type": "code",
      "source": [
        "# here we are testing the model with images from the mnist testing part of the datasets, and from the observation, it seems to recognize the really well\n",
        "import matplotlib.pyplot as plt\n",
        "\n",
        "# Function to plot images with predictions\n",
        "def plot_sample(index):\n",
        "    plt.imshow(x_test[index].reshape(28, 28), cmap='gray')  # Reshape back to 28x28 for visualization\n",
        "    plt.title(f\"Predicted: {predictions[index].argmax()}, True: {y_test[index].argmax()}\")\n",
        "    plt.axis('off')\n",
        "    plt.show()\n",
        "\n",
        "# Plot the first 5 test samples\n",
        "for i in range(5):\n",
        "    plot_sample(i)"
      ],
      "metadata": {
        "colab": {
          "base_uri": "https://localhost:8080/",
          "height": 1000
        },
        "id": "Mua0r21WT1I9",
        "outputId": "d83f72ba-c9ed-4742-e25a-ce5979933959"
      },
      "execution_count": 11,
      "outputs": [
        {
          "output_type": "display_data",
          "data": {
            "text/plain": [
              "<Figure size 640x480 with 1 Axes>"
            ],
            "image/png": "[encoded data removed]"
          },
          "metadata": {}
        },
        {
          "output_type": "display_data",
          "data": {
            "text/plain": [
              "<Figure size 640x480 with 1 Axes>"
            ],
            "image/png": "[encoded data removed]"
          },
          "metadata": {}
        },
        {
          "output_type": "display_data",
          "data": {
            "text/plain": [
              "<Figure size 640x480 with 1 Axes>"
            ],
            "image/png": "[encoded data removed]"
          },
          "metadata": {}
        },
        {
          "output_type": "display_data",
          "data": {
            "text/plain": [
              "<Figure size 640x480 with 1 Axes>"
            ],
            "image/png": "[encoded data removed]"
          },
          "metadata": {}
        },
        {
          "output_type": "display_data",
          "data": {
            "text/plain": [
              "<Figure size 640x480 with 1 Axes>"
            ],
            "image/png": "[encoded data removed]"
          },
          "metadata": {}
        }
      ]
    },
    {
      "cell_type": "code",
      "source": [
        "# Evaluate the model on the test set\n",
        "test_loss, test_accuracy = model.evaluate(x_test, y_test)\n",
        "print(f\"Test Loss: {test_loss}\")\n",
        "print(f\"Test Accuracy: {test_accuracy}\")"
      ],
      "metadata": {
        "colab": {
          "base_uri": "https://localhost:8080/"
        },
        "id": "kahPEa3lURt-",
        "outputId": "f7b8a9ff-7766-471b-ca62-27bd2d0970a6"
      },
      "execution_count": 12,
      "outputs": [
        {
          "output_type": "stream",
          "name": "stdout",
          "text": [
            "\u001b[1m313/313\u001b[0m \u001b[32m━━━━━━━━━━━━━━━━━━━━\u001b[0m\u001b[37m\u001b[0m \u001b[1m1s\u001b[0m 3ms/step - accuracy: 0.9719 - loss: 0.0910\n",
            "Test Loss: 0.07469858229160309\n",
            "Test Accuracy: 0.9764999747276306\n"
          ]
        }
      ]
    },
    {
      "cell_type": "code",
      "source": [
        "# here we are just trying to predict an image from an external dataset(my self drawn image)\n",
        "from PIL import Image\n",
        "import numpy as np\n",
        "\n",
        "# Load and preprocess the custom image\n",
        "def preprocess_image(image_path):\n",
        "    img = Image.open(image_path).convert('L')  # Convert to grayscale\n",
        "    img = img.resize((28, 28))                # Resize to 28x28 pixels\n",
        "    img = np.array(img)                      # Convert to NumPy array\n",
        "    img = img.reshape(1, 784).astype('float32') / 255.0  # Flatten and normalize\n",
        "    return img\n",
        "\n",
        "# Preprocess the custom image\n",
        "custom_image = preprocess_image('/content/digi1.jpg')\n",
        "\n",
        "# Make a prediction\n",
        "custom_prediction = model.predict(custom_image)\n",
        "print(f\"Predicted class: {custom_prediction.argmax()}\")"
      ],
      "metadata": {
        "colab": {
          "base_uri": "https://localhost:8080/"
        },
        "id": "rJvzVoy0VCq_",
        "outputId": "32faa169-69fb-4b46-d535-a964e80b92a0"
      },
      "execution_count": 14,
      "outputs": [
        {
          "output_type": "stream",
          "name": "stdout",
          "text": [
            "\u001b[1m1/1\u001b[0m \u001b[32m━━━━━━━━━━━━━━━━━━━━\u001b[0m\u001b[37m\u001b[0m \u001b[1m0s\u001b[0m 69ms/step\n",
            "Predicted class: 3\n"
          ]
        }
      ]
    },
    {
      "cell_type": "code",
      "source": [
        "# here we are trying to predict an image from an external dataset(self drawn picture) , then plot it(the actuall image) vs what it predicted\n",
        "from PIL import Image\n",
        "import numpy as np\n",
        "import matplotlib.pyplot as plt\n",
        "\n",
        "# Load and preprocess the custom image\n",
        "def preprocess_image(image_path):\n",
        "    img = Image.open(image_path).convert('L')  # Convert to grayscale\n",
        "    img = img.resize((28, 28))                # Resize to 28x28 pixels\n",
        "    img = np.array(img)                      # Convert to NumPy array\n",
        "    img = img.reshape(1, 784).astype('float32') / 255.0  # Flatten and normalize\n",
        "    return img\n",
        "\n",
        "# Define a function to plot a single image with its prediction\n",
        "def plot_custom_image_prediction(image_data, prediction):\n",
        "    # Reshape the flattened image data back to 28x28 for plotting\n",
        "    image_display = image_data.reshape(28, 28)\n",
        "\n",
        "    # Get the predicted class\n",
        "    predicted_class = prediction.argmax()\n",
        "\n",
        "    plt.imshow(image_display, cmap='gray')\n",
        "    plt.title(f\"Predicted: {predicted_class}\")\n",
        "    plt.axis('off')\n",
        "    plt.show()\n",
        "\n",
        "# Preprocess the custom image\n",
        "custom_image_path = '/content/digi1.jpg'\n",
        "custom_image_processed = preprocess_image(custom_image_path)\n",
        "\n",
        "# Make a prediction on the preprocessed custom image\n",
        "custom_prediction = model.predict(custom_image_processed)\n",
        "\n",
        "# Print the predicted class\n",
        "print(f\"Predicted class: {custom_prediction.argmax()}\")\n",
        "\n",
        "# Plot the custom image with its prediction\n",
        "plot_custom_image_prediction(custom_image_processed, custom_prediction)"
      ],
      "metadata": {
        "colab": {
          "base_uri": "https://localhost:8080/",
          "height": 463
        },
        "id": "xXdRSRJYaO4r",
        "outputId": "21297317-59f8-4a80-9568-c06a9d4014b5"
      },
      "execution_count": 15,
      "outputs": [
        {
          "output_type": "stream",
          "name": "stdout",
          "text": [
            "\u001b[1m1/1\u001b[0m \u001b[32m━━━━━━━━━━━━━━━━━━━━\u001b[0m\u001b[37m\u001b[0m \u001b[1m0s\u001b[0m 59ms/step\n",
            "Predicted class: 3\n"
          ]
        },
        {
          "output_type": "display_data",
          "data": {
            "text/plain": [
              "<Figure size 640x480 with 1 Axes>"
            ],
            "image/png": "[encoded data removed]"
          },
          "metadata": {}
        }
      ]
    },
    {
      "cell_type": "code",
      "source": [
        "# now we want to evaluate the model vs the digits ive drawn myself\n",
        "from PIL import Image\n",
        "import numpy as np\n",
        "from sklearn.metrics import accuracy_score\n",
        "\n",
        "# Function to preprocess a custom image\n",
        "def preprocess_image(image_path):\n",
        "    img = Image.open(image_path).convert('L')  # Convert to grayscale\n",
        "    img = img.resize((28, 28))                # Resize to 28x28 pixels\n",
        "    img = np.array(img)                      # Convert to NumPy array\n",
        "    img = img.reshape(1, 784).astype('float32') / 255.0  # Flatten and normalize\n",
        "    return img\n",
        "\n",
        "# Load and preprocess custom images\n",
        "custom_images = ['/content/digi2.jpg','/content/digi3.jpg','/content/digit 9.jpg']\n",
        "true_labels = [2,3,9]  # Add the true labels for your custom images (e.g., [3, 7, 2])\n",
        "\n",
        "for i, image_path in enumerate(['/content/digi2.jpg', '/content/digi3.jpg', '/content/digit 9.jpg']):\n",
        "    custom_images.append(preprocess_image(image_path))\n",
        "    true_labels.append(i)  # Replace with actual labels\n",
        "\n",
        "custom_images = np.vstack(custom_images)  # Stack all images into a single array\n",
        "\n",
        "# Make predictions\n",
        "custom_predictions = model.predict(custom_images)\n",
        "custom_predicted_classes = np.argmax(custom_predictions, axis=1)\n",
        "\n",
        "# Calculate accuracy\n",
        "accuracy = accuracy_score(true_labels, custom_predicted_classes)\n",
        "print(f\"Accuracy on custom images: {accuracy * 100:.2f}%\")\n",
        "\n",
        "# Print predictions\n",
        "for i in range(len(custom_images)):\n",
        "    print(f\"Image {i}: Predicted = {custom_predicted_classes[i]}, True = {true_labels[i]}\")"
      ],
      "metadata": {
        "colab": {
          "base_uri": "https://localhost:8080/",
          "height": 349
        },
        "id": "8frc7CpKdPq7",
        "outputId": "f67474df-5473-46a5-fbf5-0371ca32260e"
      },
      "execution_count": 16,
      "outputs": [
        {
          "output_type": "error",
          "ename": "ValueError",
          "evalue": "all the input array dimensions except for the concatenation axis must match exactly, but along dimension 1, the array at index 0 has size 1 and the array at index 3 has size 784",
          "traceback": [
            "\u001b[0;31m---------------------------------------------------------------------------\u001b[0m",
            "\u001b[0;31mValueError\u001b[0m                                Traceback (most recent call last)",
            "\u001b[0;32m<ipython-input-16-0dc170b197b3>\u001b[0m in \u001b[0;36m<cell line: 0>\u001b[0;34m()\u001b[0m\n\u001b[1;32m     20\u001b[0m     \u001b[0mtrue_labels\u001b[0m\u001b[0;34m.\u001b[0m\u001b[0mappend\u001b[0m\u001b[0;34m(\u001b[0m\u001b[0mi\u001b[0m\u001b[0;34m)\u001b[0m  \u001b[0;31m# Replace with actual labels\u001b[0m\u001b[0;34m\u001b[0m\u001b[0;34m\u001b[0m\u001b[0m\n\u001b[1;32m     21\u001b[0m \u001b[0;34m\u001b[0m\u001b[0m\n\u001b[0;32m---> 22\u001b[0;31m \u001b[0mcustom_images\u001b[0m \u001b[0;34m=\u001b[0m \u001b[0mnp\u001b[0m\u001b[0;34m.\u001b[0m\u001b[0mvstack\u001b[0m\u001b[0;34m(\u001b[0m\u001b[0mcustom_images\u001b[0m\u001b[0;34m)\u001b[0m  \u001b[0;31m# Stack all images into a single array\u001b[0m\u001b[0;34m\u001b[0m\u001b[0;34m\u001b[0m\u001b[0m\n\u001b[0m\u001b[1;32m     23\u001b[0m \u001b[0;34m\u001b[0m\u001b[0m\n\u001b[1;32m     24\u001b[0m \u001b[0;31m# Make predictions\u001b[0m\u001b[0;34m\u001b[0m\u001b[0;34m\u001b[0m\u001b[0m\n",
            "\u001b[0;32m/usr/local/lib/python3.11/dist-packages/numpy/_core/shape_base.py\u001b[0m in \u001b[0;36mvstack\u001b[0;34m(tup, dtype, casting)\u001b[0m\n\u001b[1;32m    285\u001b[0m     \u001b[0;32mif\u001b[0m \u001b[0;32mnot\u001b[0m \u001b[0misinstance\u001b[0m\u001b[0;34m(\u001b[0m\u001b[0marrs\u001b[0m\u001b[0;34m,\u001b[0m \u001b[0mtuple\u001b[0m\u001b[0;34m)\u001b[0m\u001b[0;34m:\u001b[0m\u001b[0;34m\u001b[0m\u001b[0;34m\u001b[0m\u001b[0m\n\u001b[1;32m    286\u001b[0m         \u001b[0marrs\u001b[0m \u001b[0;34m=\u001b[0m \u001b[0;34m(\u001b[0m\u001b[0marrs\u001b[0m\u001b[0;34m,\u001b[0m\u001b[0;34m)\u001b[0m\u001b[0;34m\u001b[0m\u001b[0;34m\u001b[0m\u001b[0m\n\u001b[0;32m--> 287\u001b[0;31m     \u001b[0;32mreturn\u001b[0m \u001b[0m_nx\u001b[0m\u001b[0;34m.\u001b[0m\u001b[0mconcatenate\u001b[0m\u001b[0;34m(\u001b[0m\u001b[0marrs\u001b[0m\u001b[0;34m,\u001b[0m \u001b[0;36m0\u001b[0m\u001b[0;34m,\u001b[0m \u001b[0mdtype\u001b[0m\u001b[0;34m=\u001b[0m\u001b[0mdtype\u001b[0m\u001b[0;34m,\u001b[0m \u001b[0mcasting\u001b[0m\u001b[0;34m=\u001b[0m\u001b[0mcasting\u001b[0m\u001b[0;34m)\u001b[0m\u001b[0;34m\u001b[0m\u001b[0;34m\u001b[0m\u001b[0m\n\u001b[0m\u001b[1;32m    288\u001b[0m \u001b[0;34m\u001b[0m\u001b[0m\n\u001b[1;32m    289\u001b[0m \u001b[0;34m\u001b[0m\u001b[0m\n",
            "\u001b[0;31mValueError\u001b[0m: all the input array dimensions except for the concatenation axis must match exactly, but along dimension 1, the array at index 0 has size 1 and the array at index 3 has size 784"
          ]
        }
      ]
    },
    {
      "source": [
        "# now we want to evaluate the model vs the digits ive drawn myself\n",
        "from PIL import Image\n",
        "import numpy as np\n",
        "from sklearn.metrics import accuracy_score\n",
        "\n",
        "# Function to preprocess a custom image\n",
        "def preprocess_image(image_path):\n",
        "    img = Image.open(image_path).convert('L')  # Convert to grayscale\n",
        "    img = img.resize((28, 28))                # Resize to 28x28 pixels\n",
        "    img = np.array(img)                      # Convert to NumPy array\n",
        "    img = img.reshape(1, 784).astype('float32') / 255.0  # Flatten and normalize\n",
        "    img = (img > 128).astype('float32')  # Convert to binary (black/white)\n",
        "    img = 255 - img  # Invert pixel values\n",
        "    return img\n",
        "\n",
        "# List of image paths and their corresponding true labels\n",
        "custom_image_paths = ['/content/digi2.jpg','/content/digi3.jpg','/content/digit 9.jpg']\n",
        "true_labels = [2,3,9]  # Add the true labels for your custom images (e.g., [3, 7, 2])\n",
        "\n",
        "# Load and preprocess custom images into a list of arrays\n",
        "processed_custom_images = []\n",
        "for image_path in custom_image_paths:\n",
        "    processed_custom_images.append(preprocess_image(image_path))\n",
        "\n",
        "# Stack all preprocessed images into a single array\n",
        "custom_images_array = np.vstack(processed_custom_images)\n",
        "\n",
        "# Make predictions\n",
        "custom_predictions = model.predict(custom_images_array)\n",
        "custom_predicted_classes = np.argmax(custom_predictions, axis=1)\n",
        "\n",
        "# Calculate accuracy\n",
        "accuracy = accuracy_score(true_labels, custom_predicted_classes)\n",
        "print(f\"Accuracy on custom images: {accuracy * 100:.2f}%\")\n",
        "\n",
        "# Print predictions\n",
        "for i in range(len(custom_image_paths)):\n",
        "    print(f\"Image {custom_image_paths[i]}: Predicted = {custom_predicted_classes[i]}, True = {true_labels[i]}\")"
      ],
      "cell_type": "code",
      "metadata": {
        "colab": {
          "base_uri": "https://localhost:8080/"
        },
        "id": "mTEcqpNNO_pI",
        "outputId": "d46bbf93-5ac9-497f-ddc8-34d418e88b96"
      },
      "execution_count": 18,
      "outputs": [
        {
          "output_type": "stream",
          "name": "stdout",
          "text": [
            "\u001b[1m1/1\u001b[0m \u001b[32m━━━━━━━━━━━━━━━━━━━━\u001b[0m\u001b[37m\u001b[0m \u001b[1m0s\u001b[0m 39ms/step\n",
            "Accuracy on custom images: 33.33%\n",
            "Image /content/digi2.jpg: Predicted = 3, True = 2\n",
            "Image /content/digi3.jpg: Predicted = 3, True = 3\n",
            "Image /content/digit 9.jpg: Predicted = 3, True = 9\n"
          ]
        }
      ]
    }
  ]
}